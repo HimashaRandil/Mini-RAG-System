{
 "cells": [
  {
   "cell_type": "markdown",
   "id": "7269f030",
   "metadata": {},
   "source": [
    "# Mini RAG System for Movie Plots"
   ]
  },
  {
   "cell_type": "code",
   "execution_count": 2,
   "id": "cce9803e",
   "metadata": {},
   "outputs": [],
   "source": [
    "import sys\n",
    "import os\n",
    "\n",
    "sys.path.append(os.path.abspath(os.path.join('..')))"
   ]
  },
  {
   "cell_type": "code",
   "execution_count": 3,
   "id": "c63399b3",
   "metadata": {},
   "outputs": [],
   "source": [
    "import json\n",
    "import openai\n",
    "from dotenv import load_dotenv\n",
    "from IPython.display import display, Markdown"
   ]
  },
  {
   "cell_type": "code",
   "execution_count": 4,
   "id": "82af4504",
   "metadata": {},
   "outputs": [
    {
     "name": "stderr",
     "output_type": "stream",
     "text": [
      "\u001b[32m2025-09-25 11:28:08\u001b[0m | \u001b[1mINFO    \u001b[0m | \u001b[36mutils.logger.logging_manager\u001b[0m:\u001b[36m__init__\u001b[0m:\u001b[36m66\u001b[0m - \u001b[1mGeneral logger initialized\u001b[0m\n",
      "\u001b[32m2025-09-25 11:28:08\u001b[0m | \u001b[1mINFO    \u001b[0m | \u001b[36mutils.logger.logging_manager\u001b[0m:\u001b[36m__init__\u001b[0m:\u001b[36m67\u001b[0m - \u001b[1mLogging to file: logs/general\\general_20250925_112808_11272.log\u001b[0m\n"
     ]
    }
   ],
   "source": [
    "from src.pipeline import load_and_preprocess_data, chunk_documents, create_vector_store\n",
    "from src.main import query_rag_system"
   ]
  },
  {
   "cell_type": "code",
   "execution_count": 5,
   "id": "642402e0",
   "metadata": {},
   "outputs": [
    {
     "name": "stdout",
     "output_type": "stream",
     "text": [
      "Setup complete and functions imported.\n"
     ]
    }
   ],
   "source": [
    "# Load environment variables\n",
    "load_dotenv(dotenv_path='../.env')\n",
    "\n",
    "# Initialize the OpenAI client\n",
    "api_key = os.getenv(\"OPENAI_API_KEY\")\n",
    "if not api_key:\n",
    "    raise ValueError(\"OPENAI_API_KEY not found in .env file\")\n",
    "client = openai.OpenAI(api_key=api_key)\n",
    "\n",
    "print(\"Setup complete and functions imported.\")"
   ]
  },
  {
   "cell_type": "code",
   "execution_count": 6,
   "id": "b4c2de6f",
   "metadata": {},
   "outputs": [
    {
     "name": "stderr",
     "output_type": "stream",
     "text": [
      "\u001b[32m2025-09-25 11:29:17\u001b[0m | \u001b[1mINFO    \u001b[0m | \u001b[36msrc.pipeline\u001b[0m:\u001b[36mload_and_preprocess_data\u001b[0m:\u001b[36m14\u001b[0m - \u001b[1mLoading and preprocessing 300 rows from ../data/wiki_movie_plots_deduped.csv...\u001b[0m\n",
      "\u001b[32m2025-09-25 11:29:18\u001b[0m | \u001b[1mINFO    \u001b[0m | \u001b[36msrc.pipeline\u001b[0m:\u001b[36mload_and_preprocess_data\u001b[0m:\u001b[36m22\u001b[0m - \u001b[1mLoaded 300 documents.\u001b[0m\n",
      "\u001b[32m2025-09-25 11:29:18\u001b[0m | \u001b[1mINFO    \u001b[0m | \u001b[36msrc.pipeline\u001b[0m:\u001b[36mchunk_documents\u001b[0m:\u001b[36m30\u001b[0m - \u001b[1mChunking 300 documents...\u001b[0m\n",
      "\u001b[32m2025-09-25 11:29:18\u001b[0m | \u001b[1mINFO    \u001b[0m | \u001b[36msrc.pipeline\u001b[0m:\u001b[36mchunk_documents\u001b[0m:\u001b[36m36\u001b[0m - \u001b[1mCreated 1071 chunks.\u001b[0m\n",
      "\u001b[32m2025-09-25 11:29:18\u001b[0m | \u001b[1mINFO    \u001b[0m | \u001b[36msrc.pipeline\u001b[0m:\u001b[36mcreate_vector_store\u001b[0m:\u001b[36m44\u001b[0m - \u001b[1mInitializing embedding model and vector store...\u001b[0m\n",
      "\u001b[32m2025-09-25 11:29:47\u001b[0m | \u001b[1mINFO    \u001b[0m | \u001b[36msrc.pipeline\u001b[0m:\u001b[36mcreate_vector_store\u001b[0m:\u001b[36m54\u001b[0m - \u001b[1mVector store created successfully.\u001b[0m\n"
     ]
    },
    {
     "name": "stdout",
     "output_type": "stream",
     "text": [
      "\n",
      "--- Knowledge Base is Ready ---\n"
     ]
    }
   ],
   "source": [
    "# Path to the dataset, relative to the root of the project\n",
    "DATA_PATH = \"../data/wiki_movie_plots_deduped.csv\"\n",
    "\n",
    "# Run the pipeline functions\n",
    "documents = load_and_preprocess_data(DATA_PATH)\n",
    "chunks = chunk_documents(documents)\n",
    "collection, embedding_model = create_vector_store(chunks)\n",
    "\n",
    "print(\"\\n--- Knowledge Base is Ready ---\")"
   ]
  },
  {
   "cell_type": "code",
   "execution_count": null,
   "id": "82813bc3",
   "metadata": {},
   "outputs": [],
   "source": [
    "import ipywidgets as widgets\n",
    "from IPython.display import display, Markdown\n",
    "\n",
    "# 1. Create the UI components\n",
    "text_input = widgets.Text(\n",
    "    value='Which movie is about an AI computer that becomes hostile?',\n",
    "    placeholder='Type your question here...',\n",
    "    description='Query:',\n",
    "    layout=widgets.Layout(width='90%')\n",
    ")\n",
    "submit_button = widgets.Button(\n",
    "    description='Ask RAG System',\n",
    "    button_style='success',\n",
    "    tooltip='Click to run the query'\n",
    ")\n",
    "output_area = widgets.Output()\n",
    "\n",
    "# 2. Define the function that runs on button click\n",
    "def on_button_click(b):\n",
    "    with output_area:\n",
    "        # Clear previous output\n",
    "        output_area.clear_output()\n",
    "        \n",
    "        # Get the query from the text box\n",
    "        user_query = text_input.value\n",
    "        \n",
    "        # Run the RAG system\n",
    "        rag_output = query_rag_system(user_query, collection, embedding_model)\n",
    "        \n",
    "        # Display the results in a nice format\n",
    "        md_output = f\"\"\"\n",
    "        ### Query\n",
    "        > {user_query}\n",
    "\n",
    "        ### Answer\n",
    "        {rag_output['answer']}\n",
    "\n",
    "        ### Reasoning\n",
    "        {rag_output['reasoning']}\n",
    "\n",
    "        ### Contexts Used\n",
    "        1. **Context 1:** {rag_output['contexts'][0]}\n",
    "        2. **Context 2:** {rag_output['contexts'][1]}\n",
    "        3. **Context 3:** {rag_output['contexts'][2]}\n",
    "        \"\"\"\n",
    "        display(Markdown(md_output))\n",
    "\n",
    "# 3. Link the button click event to the function\n",
    "submit_button.on_click(on_button_click)\n",
    "\n",
    "# 4. Display the UI components\n",
    "print(\"Enter your question about movie plots below and click the button.\")\n",
    "display(text_input, submit_button, output_area)"
   ]
  }
 ],
 "metadata": {
  "kernelspec": {
   "display_name": "Mini-RAG-System",
   "language": "python",
   "name": "python3"
  },
  "language_info": {
   "codemirror_mode": {
    "name": "ipython",
    "version": 3
   },
   "file_extension": ".py",
   "mimetype": "text/x-python",
   "name": "python",
   "nbconvert_exporter": "python",
   "pygments_lexer": "ipython3",
   "version": "3.13.3"
  }
 },
 "nbformat": 4,
 "nbformat_minor": 5
}
